{
 "cells": [
  {
   "cell_type": "markdown",
   "metadata": {},
   "source": [
    "Classification model training code used in BJ Spiesman, C Gratton, E Gratton, and H Hines. 2024. Deep learning for identifying bee species from images of wings and pinned specimens. PLOS ONE "
   ]
  },
  {
   "cell_type": "code",
   "execution_count": null,
   "metadata": {
    "scrolled": false
   },
   "outputs": [],
   "source": [
    "import tensorflow as tf\n",
    "from tensorflow import keras\n",
    "from tensorflow.keras import layers\n",
    "from tensorflow.keras import mixed_precision\n",
    "\n",
    "import numpy as np\n",
    "import os\n",
    "import cv2\n",
    "import matplotlib.pyplot as plt\n",
    "import keras\n",
    "import random\n",
    "import scipy\n",
    "\n",
    "from sklearn import svm, datasets\n",
    "from sklearn.utils import class_weight\n",
    "from sklearn.model_selection import train_test_split\n",
    "from sklearn.metrics import confusion_matrix\n",
    "from sklearn.utils.multiclass import unique_labels\n",
    "\n",
    "from keras.models import Sequential, Model\n",
    "from tensorflow.keras.utils import array_to_img, img_to_array, load_img\n",
    "from keras.preprocessing.image import ImageDataGenerator\n",
    "from keras.layers import Dense, Activation, Dropout, Flatten, Conv2D, MaxPooling2D, BatchNormalization, ZeroPadding2D, AveragePooling2D\n",
    "from keras import regularizers\n",
    "from keras import backend as K\n",
    "\n",
    "from keras.callbacks import TensorBoard, EarlyStopping, ModelCheckpoint, ReduceLROnPlateau\n",
    "import time"
   ]
  },
  {
   "cell_type": "code",
   "execution_count": null,
   "metadata": {
    "scrolled": true
   },
   "outputs": [],
   "source": [
    "policy = mixed_precision.Policy('mixed_float16')\n",
    "mixed_precision.set_global_policy(policy)"
   ]
  },
  {
   "cell_type": "markdown",
   "metadata": {},
   "source": [
    "# Training/test generator setup"
   ]
  },
  {
   "cell_type": "code",
   "execution_count": null,
   "metadata": {},
   "outputs": [],
   "source": [
    "#Pinned\n",
    "TRAIN_DATADIR = \"<Path to train directory>\"\n",
    "VAL_DATADIR = \"<Path to validation directory>\"\n",
    "TEST_DATADIR = \"<Path to test directory>\"\n",
    "\n",
    "CATEGORIES = [\"Agapostemon_virescens\", \"Augochlorella_aurata\", \"Augochlorella_persimilis\", \"Augochloropsis_metallica\", \n",
    "              \"Ceratina_strenua\", \"Halictus_ligatus\", \"Lasioglossum_albipenne\", \"Lasioglossum_anomalum\", \n",
    "              \"Lasioglossum_cressonii\", \"Lasioglossum_disparile\", \"Lasioglossum_hitchensi\", \"Lasioglossum_leucocomum\", \n",
    "              \"Lasioglossum_oceanicum\", \"Lasioglossum_paradmirandum\", \"Lasioglossum_pectorale\", \"Lasioglossum_pilosum\", \n",
    "              \"Lasioglossum_pruinosum\", \"Lasioglossum_semicaeruleum\", \"Lasioglossum_trigeminum\", \"Lasioglossum_versatum\"]\n",
    "\n",
    "num_classes = len(CATEGORIES) #Number of classes (e.g., species)\n",
    "IMG_SIZE = 480 #length and width of input images\n",
    "batch_size = 6\n",
    "num_classes = len(CATEGORIES) #Number of classes (e.g., species)"
   ]
  },
  {
   "cell_type": "code",
   "execution_count": null,
   "metadata": {},
   "outputs": [],
   "source": [
    "#BeeWing images\n",
    "TRAIN_DATADIR = \"<Path to train directory>\"\n",
    "VAL_DATADIR = \"<Path to validation directory>\"\n",
    "TEST_DATADIR = \"<Path to test directory>\"\n",
    "\n",
    "CATEGORIES = [\"01_Agapostemon_sericeus\", \"02_Agapostemon_texanus\", \"03_Bombus_bimaculatus\", \"04_Bombus_griseocolis\", \n",
    "              \"05_Bombus_impatiens\", \"06_Bombus_perplexus\", \"07_Bombus_sandersonii\", \"08_Bombus_vagans\", \"09_Ceratina_calcarata\", \n",
    "              \"10_Lasioglossum_acuminatum\", \"11_Lasioglossum_coriaceum\", \"12_Lasioglossum_leucozonium\", \"13_Lasioglossum_MAWIspB\", \n",
    "              \"14_Lasioglossum_nymphaerum\", \"15_Lasioglossum_pilosum\", \"16_Lasioglossum_rohweri\", \"17_Lasioglossum_zephyrum\", \n",
    "              \"18_Lasioglossum_zonulum\"]\n",
    "\n",
    "num_classes = len(CATEGORIES) #Number of classes (e.g., species)\n",
    "IMG_SIZE = 480 #length and width of input images\n",
    "batch_size = 4\n",
    "num_classes = len(CATEGORIES) #Number of classes (e.g., species)"
   ]
  },
  {
   "cell_type": "code",
   "execution_count": null,
   "metadata": {},
   "outputs": [],
   "source": [
    "train_datagen = ImageDataGenerator(\n",
    "    rescale=1./255,\n",
    "    rotation_range=100,\n",
    "    width_shift_range=0.2,\n",
    "    height_shift_range=0.2,\n",
    "    shear_range=0.2,\n",
    "    zoom_range=0.2,\n",
    "    horizontal_flip=True,\n",
    "    fill_mode='nearest')\n",
    "\n",
    "val_datagen = ImageDataGenerator(\n",
    "    rescale=1./255\n",
    "    )\n",
    "\n",
    "test_datagen = ImageDataGenerator(\n",
    "    rescale=1./255\n",
    ")"
   ]
  },
  {
   "cell_type": "code",
   "execution_count": null,
   "metadata": {},
   "outputs": [],
   "source": [
    "train_generator = train_datagen.flow_from_directory(\n",
    "    TRAIN_DATADIR,\n",
    "    target_size=(IMG_SIZE, IMG_SIZE),\n",
    "    batch_size=batch_size,\n",
    "    class_mode='categorical')\n",
    "\n",
    "validation_generator = val_datagen.flow_from_directory(\n",
    "    VAL_DATADIR,\n",
    "    shuffle=False,\n",
    "    target_size=(IMG_SIZE, IMG_SIZE),\n",
    "    batch_size=batch_size,\n",
    "    class_mode='categorical')\n",
    "\n",
    "test_generator = test_datagen.flow_from_directory(\n",
    "    TEST_DATADIR,\n",
    "    shuffle=False,\n",
    "    target_size=(IMG_SIZE, IMG_SIZE),\n",
    "    batch_size=batch_size,\n",
    "    class_mode='categorical')"
   ]
  },
  {
   "cell_type": "code",
   "execution_count": null,
   "metadata": {},
   "outputs": [],
   "source": [
    "#Set up class weights for imbalanced dataset\n",
    "from collections import Counter\n",
    "counter = Counter(validation_generator.classes)\n",
    "max_val = float(max(counter.values()))\n",
    "class_weights = {class_id : max_val/num_images for class_id, num_images in counter.items()}\n",
    "print(class_weights)"
   ]
  },
  {
   "cell_type": "code",
   "execution_count": null,
   "metadata": {
    "scrolled": false
   },
   "outputs": [],
   "source": [
    "#import keras_applications\n",
    "from tensorflow.keras.layers import Dense, GlobalAveragePooling2D, GlobalMaxPooling2D\n",
    "from tensorflow.keras.applications import EfficientNetV2L\n",
    "\n",
    "base_model = EfficientNetV2L(include_top=False, pooling ='avg', weights='imagenet', input_shape=(IMG_SIZE, IMG_SIZE, 3), include_preprocessing=False)\n",
    "x = base_model.output\n",
    "x = Dense(1024, activation='relu')(x)\n",
    "x = Dropout(0.95)(x)\n",
    "\n",
    "predictions = Dense(num_classes, activation='softmax')(x)\n",
    "\n",
    "model = Model(inputs = base_model.input, outputs = predictions)\n",
    "# summarize the model\n",
    "model.summary()"
   ]
  },
  {
   "cell_type": "code",
   "execution_count": null,
   "metadata": {},
   "outputs": [],
   "source": [
    "#Set up early stopping, save best model, learning rate\n",
    "earlyStopping = EarlyStopping(monitor='val_loss', patience=10, verbose=0, mode='min')\n",
    "mcp_save = ModelCheckpoint('Best_mdl_wts.hdf5', save_best_only=True, monitor='val_accuracy', mode='auto')\n",
    "reduce_lr_loss = ReduceLROnPlateau(monitor='val_loss', factor=0.5, patience=5, verbose=1, min_delta=1e-4, mode='auto')"
   ]
  },
  {
   "cell_type": "code",
   "execution_count": null,
   "metadata": {
    "scrolled": false
   },
   "outputs": [],
   "source": [
    "#Compile and run model\n",
    "import functools\n",
    "import multiprocessing as mp\n",
    "\n",
    "opt = tf.keras.optimizers.SGD(learning_rate=0.01)\n",
    "model.compile(loss=\"categorical_crossentropy\", \n",
    "              optimizer= opt, \n",
    "              metrics=['accuracy'])"
   ]
  },
  {
   "cell_type": "code",
   "execution_count": null,
   "metadata": {
    "scrolled": false
   },
   "outputs": [],
   "source": [
    "batch_size = batch_size\n",
    "num_train_images = train_generator.samples\n",
    "steps = num_train_images // batch_size\n",
    "num_epochs = 100\n",
    "\n",
    "history = model.fit(train_generator,\n",
    "                        steps_per_epoch = steps,\n",
    "                        epochs=num_epochs,\n",
    "                        validation_data=validation_generator,  \n",
    "                        verbose=1,\n",
    "                        class_weight=class_weights,\n",
    "                        callbacks=[mcp_save, reduce_lr_loss],\n",
    "                        use_multiprocessing=False,\n",
    "                        workers=20)"
   ]
  },
  {
   "cell_type": "code",
   "execution_count": null,
   "metadata": {
    "scrolled": false
   },
   "outputs": [],
   "source": [
    "#Plot loss and accuracy\n",
    "# Plot training & validation accuracy values\n",
    "plt.plot(history.history['accuracy'])\n",
    "plt.plot(history.history['val_accuracy'])\n",
    "plt.title('Model accuracy')\n",
    "plt.ylabel('Accuracy')\n",
    "plt.xlabel('Epoch')\n",
    "plt.legend(['Train', 'Test'], loc='lower right')\n",
    "plt.savefig('acc', dpi=600)\n",
    "plt.show()\n",
    "\n",
    "# Plot training & validation loss values\n",
    "plt.plot(history.history['loss'])\n",
    "plt.plot(history.history['val_loss'])\n",
    "plt.title('Model loss')\n",
    "plt.ylabel('Loss')\n",
    "plt.xlabel('Epoch')\n",
    "plt.legend(['Train', 'Test'], loc='upper right')\n",
    "plt.savefig('val', dpi=600)\n",
    "plt.show()"
   ]
  },
  {
   "cell_type": "code",
   "execution_count": null,
   "metadata": {
    "scrolled": true
   },
   "outputs": [],
   "source": [
    "#Load best model weights and calculate model loss and accuracy on the test set\n",
    "model.load_weights('Best_mdl_wts.hdf5')\n",
    "score = model.evaluate(test_generator)\n",
    "print('Test loss:', score[0])\n",
    "print('Test accuracy:', score[1])"
   ]
  },
  {
   "cell_type": "code",
   "execution_count": null,
   "metadata": {},
   "outputs": [],
   "source": [
    "#Save the best model\n",
    "model.save('Saved_model.h5')"
   ]
  },
  {
   "cell_type": "code",
   "execution_count": null,
   "metadata": {},
   "outputs": [],
   "source": [
    "## TEST Confusion matrix\n",
    "y_pred = model.predict(test_generator)\n",
    "y_pred_labels = np.argmax(y_pred, axis=1)\n",
    "\n",
    "cm = confusion_matrix(test_generator.classes, y_pred_labels)\n",
    "print(cm)"
   ]
  },
  {
   "cell_type": "code",
   "execution_count": null,
   "metadata": {
    "scrolled": false
   },
   "outputs": [],
   "source": [
    "#Nicer looking confusion matrix\n",
    "import seaborn as sn\n",
    "import pandas as pd\n",
    "import matplotlib.pyplot as plt\n",
    "\n",
    "np.set_printoptions(precision=6)\n",
    "\n",
    "df_cm = pd.DataFrame(cm, index = CATEGORIES, columns = CATEGORIES)\n",
    "df_cm.index.name = 'True'\n",
    "df_cm.columns.name = 'Predicted'\n",
    "plt.figure(figsize = (16,12))\n",
    "sn.heatmap(df_cm, annot=True, cmap=\"Blues\", fmt=\".1f\")"
   ]
  },
  {
   "cell_type": "code",
   "execution_count": null,
   "metadata": {},
   "outputs": [],
   "source": [
    "#Classification report\n",
    "from sklearn.metrics import classification_report, accuracy_score\n",
    "print ('Accuracy Score:',accuracy_score(y_test, y_pred_labels))\n",
    "print(classification_report(y_test, y_pred_labels, digits=4, target_names=CATEGORIES))"
   ]
  }
 ],
 "metadata": {
  "kernelspec": {
   "display_name": "Python 3 (ipykernel)",
   "language": "python",
   "name": "python3"
  },
  "language_info": {
   "codemirror_mode": {
    "name": "ipython",
    "version": 3
   },
   "file_extension": ".py",
   "mimetype": "text/x-python",
   "name": "python",
   "nbconvert_exporter": "python",
   "pygments_lexer": "ipython3",
   "version": "3.9.12"
  }
 },
 "nbformat": 4,
 "nbformat_minor": 2
}
